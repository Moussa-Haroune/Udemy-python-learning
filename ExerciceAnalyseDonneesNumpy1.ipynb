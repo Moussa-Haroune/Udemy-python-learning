{
 "cells": [
  {
   "cell_type": "markdown",
   "id": "5b9c4c11",
   "metadata": {},
   "source": [
    "Exercice Analyse de données avec numpy "
   ]
  },
  {
   "cell_type": "code",
   "execution_count": 1,
   "id": "04927829",
   "metadata": {},
   "outputs": [
    {
     "data": {
      "text/plain": [
       "array([['1986', 'Western Pacific', 'Viet Nam', 'Wine', '0'],\n",
       "       ['1986', 'Americas', 'Uruguay', 'Other', '0.5'],\n",
       "       ['1985', 'Africa', \"Cte d'Ivoire\", 'Wine', '1.62'],\n",
       "       ...,\n",
       "       ['1986', 'Europe', 'Switzerland', 'Spirits', '2.54'],\n",
       "       ['1987', 'Western Pacific', 'Papua New Guinea', 'Other', '0'],\n",
       "       ['1986', 'Africa', 'Swaziland', 'Other', '5.15']], dtype='<U75')"
      ]
     },
     "execution_count": 1,
     "metadata": {},
     "output_type": "execute_result"
    }
   ],
   "source": [
    "import numpy as np\n",
    "\n",
    "world_alcohol = np.genfromtxt(\"world_alcohol.csv\", delimiter=\",\", dtype = \"U75\", skip_header = 1)\n",
    "world_alcohol"
   ]
  },
  {
   "cell_type": "markdown",
   "id": "9e097259",
   "metadata": {},
   "source": [
    "    ### extraction du 3 colonne du tableu numpy world_alcohol countries_alcohol et comparaison avec canada"
   ]
  },
  {
   "cell_type": "code",
   "execution_count": 13,
   "id": "900369a2",
   "metadata": {},
   "outputs": [
    {
     "data": {
      "text/plain": [
       "array([False, False, False, ..., False, False, False])"
      ]
     },
     "execution_count": 13,
     "metadata": {},
     "output_type": "execute_result"
    }
   ],
   "source": [
    "countries_canada = (world_alcohol[:,2] ==\"canada\")\n",
    "countries_canada"
   ]
  },
  {
   "cell_type": "code",
   "execution_count": 14,
   "id": "844849a3",
   "metadata": {},
   "outputs": [
    {
     "data": {
      "text/plain": [
       "array([False, False, False, ..., False, False, False])"
      ]
     },
     "execution_count": 14,
     "metadata": {},
     "output_type": "execute_result"
    }
   ],
   "source": [
    "yeras_1984 = (world_alcohol[:,0] == \"1984\")\n",
    "yeras_1984"
   ]
  },
  {
   "cell_type": "markdown",
   "id": "d7d7a7c2",
   "metadata": {},
   "source": [
    "### selectionner des éléments\n",
    "\n",
    "##### ercercices"
   ]
  },
  {
   "cell_type": "markdown",
   "id": "1acdca08",
   "metadata": {},
   "source": [
    "#### - comparer la 3e colonne de world_alcohol  à la chaine de carctère \"Algeria\"\n",
    "#### - Assigner le resultat à la variable country_is_algeria\n",
    "#### - Selectionner seeulement les lignes de world_alcohol pour lesquelles country_is_algeria vaut true"
   ]
  },
  {
   "cell_type": "code",
   "execution_count": 18,
   "id": "c5af4fe1",
   "metadata": {},
   "outputs": [
    {
     "name": "stdout",
     "output_type": "stream",
     "text": [
      "[['1984' 'Africa' 'Algeria' 'Spirits' '0.01']\n",
      " ['1987' 'Africa' 'Algeria' 'Beer' '0.17']\n",
      " ['1987' 'Africa' 'Algeria' 'Spirits' '0.01']\n",
      " ['1986' 'Africa' 'Algeria' 'Wine' '0.1']\n",
      " ['1984' 'Africa' 'Algeria' 'Other' '0']\n",
      " ['1989' 'Africa' 'Algeria' 'Beer' '0.16']\n",
      " ['1989' 'Africa' 'Algeria' 'Spirits' '0.01']\n",
      " ['1989' 'Africa' 'Algeria' 'Wine' '0.23']\n",
      " ['1986' 'Africa' 'Algeria' 'Spirits' '0.01']\n",
      " ['1984' 'Africa' 'Algeria' 'Wine' '0.12']\n",
      " ['1985' 'Africa' 'Algeria' 'Beer' '0.19']\n",
      " ['1985' 'Africa' 'Algeria' 'Other' '0']\n",
      " ['1986' 'Africa' 'Algeria' 'Beer' '0.18']\n",
      " ['1985' 'Africa' 'Algeria' 'Wine' '0.11']\n",
      " ['1986' 'Africa' 'Algeria' 'Other' '0']\n",
      " ['1989' 'Africa' 'Algeria' 'Other' '0']\n",
      " ['1987' 'Africa' 'Algeria' 'Other' '0']\n",
      " ['1984' 'Africa' 'Algeria' 'Beer' '0.2']\n",
      " ['1985' 'Africa' 'Algeria' 'Spirits' '0.01']\n",
      " ['1987' 'Africa' 'Algeria' 'Wine' '0.1']]\n"
     ]
    }
   ],
   "source": [
    "country_is_algeria = (world_alcohol[:,2] == \"Algeria\")\n",
    "country_algeria = world_alcohol[country_is_algeria]\n",
    "print(country_algeria)"
   ]
  },
  {
   "cell_type": "code",
   "execution_count": 19,
   "id": "3d6c48a9",
   "metadata": {},
   "outputs": [
    {
     "name": "stdout",
     "output_type": "stream",
     "text": [
      "[['1984' 'Africa' 'Nigeria' 'Other' '6.1']\n",
      " ['1984' 'Eastern Mediterranean' 'Afghanistan' 'Other' '0']\n",
      " ['1984' 'Americas' 'Costa Rica' 'Wine' '0.06']\n",
      " ...\n",
      " ['1984' 'Europe' 'Latvia' 'Spirits' '7.5']\n",
      " ['1984' 'Africa' 'Angola' 'Wine' '0.57']\n",
      " ['1984' 'Africa' 'Central African Republic' 'Wine' '0.46']]\n"
     ]
    }
   ],
   "source": [
    "year_is_1984 = world_alcohol[:,0] == \"1984\"\n",
    "year_1984 = world_alcohol[year_is_1984]\n",
    "print(year_1984)"
   ]
  },
  {
   "cell_type": "code",
   "execution_count": null,
   "id": "77cde791",
   "metadata": {},
   "outputs": [],
   "source": []
  },
  {
   "cell_type": "markdown",
   "id": "3a7d0fc5",
   "metadata": {},
   "source": [
    "### Effectuer des comparaison avec plusieurs conditions\n",
    "* selectionner les lignes dont le pays est \"Algeria\" et l'année \"1986\""
   ]
  },
  {
   "cell_type": "code",
   "execution_count": 23,
   "id": "21ebdcde",
   "metadata": {},
   "outputs": [
    {
     "name": "stdout",
     "output_type": "stream",
     "text": [
      "[['1986' 'Africa' 'Algeria' 'Wine' '0.1']\n",
      " ['1986' 'Africa' 'Algeria' 'Spirits' '0.01']\n",
      " ['1986' 'Africa' 'Algeria' 'Beer' '0.18']\n",
      " ['1986' 'Africa' 'Algeria' 'Other' '0']]\n"
     ]
    }
   ],
   "source": [
    "country_is_Algria_1986 = (world_alcohol[:,2] == \"Algeria\") & (world_alcohol[:,0] == \"1986\")\n",
    "rows_with_algeria_and_1986 = world_alcohol[country_is_Algria_1986,:]\n",
    "print(rows_with_algeria_and_1986)"
   ]
  },
  {
   "cell_type": "code",
   "execution_count": null,
   "id": "7a317f10",
   "metadata": {},
   "outputs": [],
   "source": []
  }
 ],
 "metadata": {
  "kernelspec": {
   "display_name": "Python 3 (ipykernel)",
   "language": "python",
   "name": "python3"
  },
  "language_info": {
   "codemirror_mode": {
    "name": "ipython",
    "version": 3
   },
   "file_extension": ".py",
   "mimetype": "text/x-python",
   "name": "python",
   "nbconvert_exporter": "python",
   "pygments_lexer": "ipython3",
   "version": "3.10.9"
  }
 },
 "nbformat": 4,
 "nbformat_minor": 5
}
