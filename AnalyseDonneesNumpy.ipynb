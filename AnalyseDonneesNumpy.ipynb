{
 "cells": [
  {
   "cell_type": "markdown",
   "id": "5611de4d",
   "metadata": {},
   "source": [
    "# Analyse de données de numpy"
   ]
  },
  {
   "cell_type": "markdown",
   "id": "62f468bb",
   "metadata": {},
   "source": [
    "## Objectif"
   ]
  },
  {
   "cell_type": "code",
   "execution_count": 3,
   "id": "c359b64f",
   "metadata": {},
   "outputs": [
    {
     "data": {
      "text/plain": [
       "array([['1986', 'Western Pacific', 'Viet Nam', 'Wine', '0'],\n",
       "       ['1986', 'Americas', 'Uruguay', 'Other', '0.5'],\n",
       "       ['1985', 'Africa', \"Cte d'Ivoire\", 'Wine', '1.62'],\n",
       "       ...,\n",
       "       ['1986', 'Europe', 'Switzerland', 'Spirits', '2.54'],\n",
       "       ['1987', 'Western Pacific', 'Papua New Guinea', 'Other', '0'],\n",
       "       ['1986', 'Africa', 'Swaziland', 'Other', '5.15']], dtype='<U75')"
      ]
     },
     "execution_count": 3,
     "metadata": {},
     "output_type": "execute_result"
    }
   ],
   "source": [
    "import numpy as np\n",
    "\n",
    "world_alcohol = np.genfromtxt(\"world_alcohol.csv\", delimiter=\",\", dtype = \"U75\", skip_header = 1)\n",
    "world_alcohol"
   ]
  },
  {
   "cell_type": "markdown",
   "id": "59751873",
   "metadata": {},
   "source": [
    "## effectuer des comparaisons "
   ]
  },
  {
   "cell_type": "code",
   "execution_count": 19,
   "id": "9ed47d11",
   "metadata": {},
   "outputs": [],
   "source": [
    "vector = np.array([5,10,15,20,10])"
   ]
  },
  {
   "cell_type": "code",
   "execution_count": 20,
   "id": "5d5f840d",
   "metadata": {},
   "outputs": [
    {
     "data": {
      "text/plain": [
       "array([False,  True, False, False,  True])"
      ]
     },
     "execution_count": 20,
     "metadata": {},
     "output_type": "execute_result"
    }
   ],
   "source": [
    "vector == 10"
   ]
  },
  {
   "cell_type": "code",
   "execution_count": 21,
   "id": "09a62f81",
   "metadata": {},
   "outputs": [
    {
     "data": {
      "text/plain": [
       "array([[ 5, 10, 15],\n",
       "       [20, 25, 30],\n",
       "       [35, 40, 45]])"
      ]
     },
     "execution_count": 21,
     "metadata": {},
     "output_type": "execute_result"
    }
   ],
   "source": [
    "matrix = np.array([[5,10,15], [20,25,30],[35,40,45]])\n",
    "matrix "
   ]
  },
  {
   "cell_type": "code",
   "execution_count": 22,
   "id": "3350041a",
   "metadata": {},
   "outputs": [
    {
     "data": {
      "text/plain": [
       "array([[False, False, False],\n",
       "       [False,  True, False],\n",
       "       [False, False, False]])"
      ]
     },
     "execution_count": 22,
     "metadata": {},
     "output_type": "execute_result"
    }
   ],
   "source": [
    "matrix == 25"
   ]
  },
  {
   "cell_type": "markdown",
   "id": "9f2037dd",
   "metadata": {},
   "source": [
    "## Selectionner des éléments precis depuis un tableau numpy"
   ]
  },
  {
   "cell_type": "code",
   "execution_count": 23,
   "id": "be9c0ad4",
   "metadata": {},
   "outputs": [
    {
     "data": {
      "text/plain": [
       "array([ 5, 10, 15, 20, 10])"
      ]
     },
     "execution_count": 23,
     "metadata": {},
     "output_type": "execute_result"
    }
   ],
   "source": [
    "vector"
   ]
  },
  {
   "cell_type": "code",
   "execution_count": 24,
   "id": "6f64404a",
   "metadata": {},
   "outputs": [
    {
     "name": "stdout",
     "output_type": "stream",
     "text": [
      "[10 10]\n"
     ]
    }
   ],
   "source": [
    "equal_to_10 = (vector == 10)\n",
    "print(vector[equal_to_10])"
   ]
  },
  {
   "cell_type": "code",
   "execution_count": 25,
   "id": "62429148",
   "metadata": {},
   "outputs": [
    {
     "data": {
      "text/plain": [
       "array([[ 5, 10, 15],\n",
       "       [20, 25, 30],\n",
       "       [35, 40, 45]])"
      ]
     },
     "execution_count": 25,
     "metadata": {},
     "output_type": "execute_result"
    }
   ],
   "source": [
    "matrix"
   ]
  },
  {
   "cell_type": "code",
   "execution_count": 31,
   "id": "4403ad0b",
   "metadata": {},
   "outputs": [],
   "source": [
    "equal_to_25 = (matrix[:,1] == 25)"
   ]
  },
  {
   "cell_type": "code",
   "execution_count": 33,
   "id": "1ba0d136",
   "metadata": {},
   "outputs": [
    {
     "name": "stdout",
     "output_type": "stream",
     "text": [
      "[[20 25 30]]\n"
     ]
    }
   ],
   "source": [
    "print(matrix[equal_to_25, :])"
   ]
  },
  {
   "cell_type": "markdown",
   "id": "ed015053",
   "metadata": {},
   "source": [
    "###  Effectuer des comparaison avec plusieurs conditions "
   ]
  },
  {
   "cell_type": "code",
   "execution_count": 34,
   "id": "9243b9e0",
   "metadata": {},
   "outputs": [
    {
     "data": {
      "text/plain": [
       "array([ 5, 10, 15, 20, 10])"
      ]
     },
     "execution_count": 34,
     "metadata": {},
     "output_type": "execute_result"
    }
   ],
   "source": [
    "vector"
   ]
  },
  {
   "cell_type": "code",
   "execution_count": 35,
   "id": "af119c08",
   "metadata": {},
   "outputs": [],
   "source": [
    "equal_to_ten_and_five = (vector == 10) & (vector == 5)"
   ]
  },
  {
   "cell_type": "code",
   "execution_count": 36,
   "id": "7a9c4978",
   "metadata": {},
   "outputs": [
    {
     "name": "stdout",
     "output_type": "stream",
     "text": [
      "[False False False False False]\n"
     ]
    }
   ],
   "source": [
    "print(equal_to_ten_and_five)"
   ]
  },
  {
   "cell_type": "code",
   "execution_count": 37,
   "id": "37a9b384",
   "metadata": {},
   "outputs": [
    {
     "name": "stdout",
     "output_type": "stream",
     "text": [
      "[ True  True False False  True]\n"
     ]
    }
   ],
   "source": [
    "equal_to_ten_and_five = (vector == 10) | (vector == 5)\n",
    "print(equal_to_ten_and_five)"
   ]
  },
  {
   "cell_type": "code",
   "execution_count": null,
   "id": "3242011e",
   "metadata": {},
   "outputs": [],
   "source": []
  }
 ],
 "metadata": {
  "kernelspec": {
   "display_name": "Python 3 (ipykernel)",
   "language": "python",
   "name": "python3"
  },
  "language_info": {
   "codemirror_mode": {
    "name": "ipython",
    "version": 3
   },
   "file_extension": ".py",
   "mimetype": "text/x-python",
   "name": "python",
   "nbconvert_exporter": "python",
   "pygments_lexer": "ipython3",
   "version": "3.10.9"
  }
 },
 "nbformat": 4,
 "nbformat_minor": 5
}
