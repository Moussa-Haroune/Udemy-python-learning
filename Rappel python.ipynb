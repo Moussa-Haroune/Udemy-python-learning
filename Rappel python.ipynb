{
 "cells": [
  {
   "cell_type": "markdown",
   "id": "a2eda44a",
   "metadata": {},
   "source": [
    "# Rappel Python\n",
    "\n",
    "## variables & Types de données"
   ]
  },
  {
   "cell_type": "code",
   "execution_count": 1,
   "id": "2048a0ec",
   "metadata": {},
   "outputs": [],
   "source": [
    "days = 365"
   ]
  },
  {
   "cell_type": "code",
   "execution_count": 2,
   "id": "918f95c1",
   "metadata": {},
   "outputs": [],
   "source": [
    "number_days = 365"
   ]
  },
  {
   "cell_type": "code",
   "execution_count": 3,
   "id": "d5760b30",
   "metadata": {},
   "outputs": [],
   "source": [
    "days_1 = 365"
   ]
  },
  {
   "cell_type": "code",
   "execution_count": 4,
   "id": "686aedf7",
   "metadata": {},
   "outputs": [],
   "source": [
    "days_2 = 366"
   ]
  },
  {
   "cell_type": "code",
   "execution_count": 5,
   "id": "5fd5bdcb",
   "metadata": {},
   "outputs": [
    {
     "data": {
      "text/plain": [
       "365"
      ]
     },
     "execution_count": 5,
     "metadata": {},
     "output_type": "execute_result"
    }
   ],
   "source": [
    "number_days"
   ]
  },
  {
   "cell_type": "code",
   "execution_count": 6,
   "id": "8127c17e",
   "metadata": {},
   "outputs": [
    {
     "name": "stdout",
     "output_type": "stream",
     "text": [
      "365\n"
     ]
    }
   ],
   "source": [
    "print(number_days)"
   ]
  },
  {
   "cell_type": "code",
   "execution_count": 7,
   "id": "e523d73b",
   "metadata": {},
   "outputs": [],
   "source": [
    "france = 123"
   ]
  },
  {
   "cell_type": "code",
   "execution_count": 8,
   "id": "799e43c9",
   "metadata": {},
   "outputs": [
    {
     "name": "stdout",
     "output_type": "stream",
     "text": [
      "<class 'int'>\n"
     ]
    }
   ],
   "source": [
    "print(type(france))"
   ]
  },
  {
   "cell_type": "code",
   "execution_count": 11,
   "id": "0a07aee3",
   "metadata": {},
   "outputs": [
    {
     "name": "stdout",
     "output_type": "stream",
     "text": [
      "<class 'float'>\n"
     ]
    }
   ],
   "source": [
    "# float - nombres à virgules\n",
    "\n",
    "data_float = 122.5\n",
    "print(type(data_float))"
   ]
  },
  {
   "cell_type": "code",
   "execution_count": 12,
   "id": "8a7f5e07",
   "metadata": {},
   "outputs": [
    {
     "name": "stdout",
     "output_type": "stream",
     "text": [
      "<class 'str'>\n"
     ]
    }
   ],
   "source": [
    "# string \n",
    "hello = 'hello'\n",
    "print(type(hello))"
   ]
  },
  {
   "cell_type": "code",
   "execution_count": 13,
   "id": "6d1482f7",
   "metadata": {},
   "outputs": [
    {
     "name": "stdout",
     "output_type": "stream",
     "text": [
      "<class 'str'>\n"
     ]
    }
   ],
   "source": [
    "# conversion fonction srt() et int \n",
    "str_int = \"2\"\n",
    "print(type(str_int))"
   ]
  },
  {
   "cell_type": "code",
   "execution_count": 14,
   "id": "73443d11",
   "metadata": {},
   "outputs": [
    {
     "name": "stdout",
     "output_type": "stream",
     "text": [
      "<class 'int'>\n"
     ]
    }
   ],
   "source": [
    "str_int = int(str_int)\n",
    "print(type(str_int))"
   ]
  },
  {
   "cell_type": "code",
   "execution_count": 17,
   "id": "e2e22306",
   "metadata": {},
   "outputs": [
    {
     "name": "stdout",
     "output_type": "stream",
     "text": [
      "110\n"
     ]
    }
   ],
   "source": [
    "somme = 95 + 15\n",
    "print(somme)"
   ]
  },
  {
   "cell_type": "code",
   "execution_count": 18,
   "id": "4cae0397",
   "metadata": {},
   "outputs": [
    {
     "name": "stdout",
     "output_type": "stream",
     "text": [
      "12100\n"
     ]
    }
   ],
   "source": [
    "pow = somme**2\n",
    "print(pow)"
   ]
  },
  {
   "cell_type": "markdown",
   "id": "47dd858b",
   "metadata": {},
   "source": [
    "## listes & dictionnaires"
   ]
  },
  {
   "cell_type": "code",
   "execution_count": 19,
   "id": "9582f198",
   "metadata": {},
   "outputs": [],
   "source": [
    "months = []"
   ]
  },
  {
   "cell_type": "code",
   "execution_count": 20,
   "id": "830fd5f4",
   "metadata": {},
   "outputs": [],
   "source": [
    "# methode list.append()\n",
    "\n",
    "months.append(\"janvier\")\n",
    "months.append(\"fevrier\")"
   ]
  },
  {
   "cell_type": "code",
   "execution_count": 23,
   "id": "fb8c04fd",
   "metadata": {},
   "outputs": [
    {
     "name": "stdout",
     "output_type": "stream",
     "text": [
      "['janvier', 'fevrier', 1]\n"
     ]
    }
   ],
   "source": [
    "print(months)"
   ]
  },
  {
   "cell_type": "code",
   "execution_count": 24,
   "id": "00106f46",
   "metadata": {},
   "outputs": [],
   "source": [
    "months.append(5)"
   ]
  },
  {
   "cell_type": "code",
   "execution_count": 25,
   "id": "ac0c92cb",
   "metadata": {},
   "outputs": [
    {
     "name": "stdout",
     "output_type": "stream",
     "text": [
      "['janvier', 'fevrier', 1, 5]\n"
     ]
    }
   ],
   "source": [
    "print(months)"
   ]
  },
  {
   "cell_type": "code",
   "execution_count": 26,
   "id": "eed9fed8",
   "metadata": {},
   "outputs": [],
   "source": [
    "years = [2013, 2014, 2015, 2016, 2017, 2018]"
   ]
  },
  {
   "cell_type": "code",
   "execution_count": 27,
   "id": "a445c37b",
   "metadata": {},
   "outputs": [],
   "source": [
    "first_value = years[0]"
   ]
  },
  {
   "cell_type": "code",
   "execution_count": 28,
   "id": "4c8c03bb",
   "metadata": {},
   "outputs": [
    {
     "name": "stdout",
     "output_type": "stream",
     "text": [
      "2013\n"
     ]
    }
   ],
   "source": [
    "print(first_value)"
   ]
  },
  {
   "cell_type": "code",
   "execution_count": 29,
   "id": "8bcfbf77",
   "metadata": {},
   "outputs": [
    {
     "data": {
      "text/plain": [
       "2016"
      ]
     },
     "execution_count": 29,
     "metadata": {},
     "output_type": "execute_result"
    }
   ],
   "source": [
    "years[3]"
   ]
  },
  {
   "cell_type": "code",
   "execution_count": 30,
   "id": "acf9cfd9",
   "metadata": {},
   "outputs": [
    {
     "data": {
      "text/plain": [
       "[2013, 2014, 2015]"
      ]
     },
     "execution_count": 30,
     "metadata": {},
     "output_type": "execute_result"
    }
   ],
   "source": [
    "years [0:3]"
   ]
  },
  {
   "cell_type": "code",
   "execution_count": 31,
   "id": "655cd7cc",
   "metadata": {},
   "outputs": [
    {
     "data": {
      "text/plain": [
       "6"
      ]
     },
     "execution_count": 31,
     "metadata": {},
     "output_type": "execute_result"
    }
   ],
   "source": [
    "len(years)"
   ]
  },
  {
   "cell_type": "code",
   "execution_count": 32,
   "id": "a4bf8417",
   "metadata": {},
   "outputs": [],
   "source": [
    "scores = {}"
   ]
  },
  {
   "cell_type": "code",
   "execution_count": 34,
   "id": "f2070213",
   "metadata": {},
   "outputs": [],
   "source": [
    "animals = {\n",
    "    \"poule\": 120,\n",
    "    \"chèvres\": 50,\n",
    "    \"vache\": 15\n",
    "}"
   ]
  },
  {
   "cell_type": "code",
   "execution_count": 35,
   "id": "06d2b80a",
   "metadata": {},
   "outputs": [
    {
     "name": "stdout",
     "output_type": "stream",
     "text": [
      "{'poule': 120, 'chèvres': 50, 'vache': 15}\n"
     ]
    }
   ],
   "source": [
    "print(animals)"
   ]
  },
  {
   "cell_type": "code",
   "execution_count": 36,
   "id": "64b74b67",
   "metadata": {},
   "outputs": [
    {
     "data": {
      "text/plain": [
       "{'poule': 500, 'chèvres': 50, 'vache': 15}"
      ]
     },
     "execution_count": 36,
     "metadata": {},
     "output_type": "execute_result"
    }
   ],
   "source": [
    "animals[\"poule\"] = 500\n",
    "animals"
   ]
  },
  {
   "cell_type": "code",
   "execution_count": 37,
   "id": "e026364d",
   "metadata": {},
   "outputs": [],
   "source": [
    "animals[\"lion\"] = 6"
   ]
  },
  {
   "cell_type": "code",
   "execution_count": 38,
   "id": "f2690647",
   "metadata": {},
   "outputs": [
    {
     "data": {
      "text/plain": [
       "{'poule': 500, 'chèvres': 50, 'vache': 15, 'lion': 6}"
      ]
     },
     "execution_count": 38,
     "metadata": {},
     "output_type": "execute_result"
    }
   ],
   "source": [
    "animals"
   ]
  },
  {
   "cell_type": "code",
   "execution_count": 39,
   "id": "9a271c71",
   "metadata": {},
   "outputs": [
    {
     "data": {
      "text/plain": [
       "15"
      ]
     },
     "execution_count": 39,
     "metadata": {},
     "output_type": "execute_result"
    }
   ],
   "source": [
    "animals[\"vache\"]"
   ]
  },
  {
   "cell_type": "markdown",
   "id": "89f7f93f",
   "metadata": {},
   "source": [
    "## condition IF/ELSE"
   ]
  },
  {
   "cell_type": "code",
   "execution_count": 40,
   "id": "9656d4ff",
   "metadata": {},
   "outputs": [],
   "source": [
    "age = 29"
   ]
  },
  {
   "cell_type": "code",
   "execution_count": 45,
   "id": "2245a0c5",
   "metadata": {},
   "outputs": [
    {
     "name": "stdout",
     "output_type": "stream",
     "text": [
      "interdit pour toi\n"
     ]
    }
   ],
   "source": [
    "if age > 34 :\n",
    "    print(age)\n",
    "else : \n",
    "    print('interdit pour toi')"
   ]
  },
  {
   "cell_type": "markdown",
   "id": "17109197",
   "metadata": {},
   "source": [
    "## Boucle for "
   ]
  },
  {
   "cell_type": "code",
   "execution_count": 46,
   "id": "0426dab5",
   "metadata": {},
   "outputs": [],
   "source": [
    "cities = ['paris', 'madrid', 'rome']"
   ]
  },
  {
   "cell_type": "code",
   "execution_count": 52,
   "id": "a147e624",
   "metadata": {},
   "outputs": [
    {
     "name": "stdout",
     "output_type": "stream",
     "text": [
      "paris\n",
      "madrid\n",
      "rome\n"
     ]
    }
   ],
   "source": [
    "for city in cities : \n",
    "    print(city)"
   ]
  },
  {
   "cell_type": "code",
   "execution_count": 53,
   "id": "8d0a6e8d",
   "metadata": {},
   "outputs": [],
   "source": [
    "fruits = ['citron', 'banane', 'pomme', 'banane', 'pomme', 'banane', 'pomme']"
   ]
  },
  {
   "cell_type": "code",
   "execution_count": 54,
   "id": "8aed2dc3",
   "metadata": {},
   "outputs": [],
   "source": [
    "fruits_counts = {}"
   ]
  },
  {
   "cell_type": "code",
   "execution_count": 55,
   "id": "ea08b99b",
   "metadata": {},
   "outputs": [],
   "source": [
    "for item in fruits:\n",
    "    if item in fruits_counts :\n",
    "        fruits_counts[item] +=1\n",
    "    else :\n",
    "        fruits_counts[item] = 1"
   ]
  },
  {
   "cell_type": "code",
   "execution_count": 56,
   "id": "ed45830e",
   "metadata": {},
   "outputs": [
    {
     "name": "stdout",
     "output_type": "stream",
     "text": [
      "{'citron': 1, 'banane': 3, 'pomme': 3}\n"
     ]
    }
   ],
   "source": [
    "print(fruits_counts)"
   ]
  },
  {
   "cell_type": "markdown",
   "id": "32c85ad3",
   "metadata": {},
   "source": [
    "## Fontions"
   ]
  },
  {
   "cell_type": "code",
   "execution_count": 57,
   "id": "e0fa2cc3",
   "metadata": {},
   "outputs": [],
   "source": [
    "def ton_age(age):\n",
    "    if age >= 60 :\n",
    "        return('agé')\n",
    "    else :\n",
    "        return('jeune')"
   ]
  },
  {
   "cell_type": "code",
   "execution_count": 59,
   "id": "776f1833",
   "metadata": {},
   "outputs": [
    {
     "data": {
      "text/plain": [
       "'agé'"
      ]
     },
     "execution_count": 59,
     "metadata": {},
     "output_type": "execute_result"
    }
   ],
   "source": [
    "ton_age(75)"
   ]
  },
  {
   "cell_type": "code",
   "execution_count": 60,
   "id": "be558570",
   "metadata": {},
   "outputs": [
    {
     "data": {
      "text/plain": [
       "'jeune'"
      ]
     },
     "execution_count": 60,
     "metadata": {},
     "output_type": "execute_result"
    }
   ],
   "source": [
    "ton_age(35)"
   ]
  },
  {
   "cell_type": "code",
   "execution_count": 61,
   "id": "96947d39",
   "metadata": {},
   "outputs": [],
   "source": [
    "def listin(dict):\n",
    "    liste = []\n",
    "    for d in dict:\n",
    "        if dict[d] > 10:\n",
    "            liste.append(d)\n",
    "    return liste"
   ]
  },
  {
   "cell_type": "code",
   "execution_count": 62,
   "id": "45eeebfe",
   "metadata": {},
   "outputs": [],
   "source": [
    "notes = {\n",
    "    'tom' : 12,\n",
    "    'nina' : 15,\n",
    "    'toto' : 8,\n",
    "    'tibo' : 9,\n",
    "    'julie' : 18\n",
    "    \n",
    "}"
   ]
  },
  {
   "cell_type": "code",
   "execution_count": 63,
   "id": "518a7530",
   "metadata": {},
   "outputs": [
    {
     "data": {
      "text/plain": [
       "['tom', 'nina', 'julie']"
      ]
     },
     "execution_count": 63,
     "metadata": {},
     "output_type": "execute_result"
    }
   ],
   "source": [
    "listin(notes)"
   ]
  },
  {
   "cell_type": "code",
   "execution_count": null,
   "id": "e480aa8d",
   "metadata": {},
   "outputs": [],
   "source": []
  }
 ],
 "metadata": {
  "kernelspec": {
   "display_name": "Python 3 (ipykernel)",
   "language": "python",
   "name": "python3"
  },
  "language_info": {
   "codemirror_mode": {
    "name": "ipython",
    "version": 3
   },
   "file_extension": ".py",
   "mimetype": "text/x-python",
   "name": "python",
   "nbconvert_exporter": "python",
   "pygments_lexer": "ipython3",
   "version": "3.10.9"
  }
 },
 "nbformat": 4,
 "nbformat_minor": 5
}
