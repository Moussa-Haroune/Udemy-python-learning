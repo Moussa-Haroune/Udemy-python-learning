{
 "cells": [
  {
   "cell_type": "markdown",
   "id": "779ae3af",
   "metadata": {},
   "source": [
    "# Analyse de données de numpy"
   ]
  },
  {
   "cell_type": "markdown",
   "id": "bdbfb190",
   "metadata": {},
   "source": [
    "## Objectif"
   ]
  },
  {
   "cell_type": "code",
   "execution_count": 3,
   "id": "8c727fb6",
   "metadata": {},
   "outputs": [
    {
     "data": {
      "text/plain": [
       "array([['1986', 'Western Pacific', 'Viet Nam', 'Wine', '0'],\n",
       "       ['1986', 'Americas', 'Uruguay', 'Other', '0.5'],\n",
       "       ['1985', 'Africa', \"Cte d'Ivoire\", 'Wine', '1.62'],\n",
       "       ...,\n",
       "       ['1986', 'Europe', 'Switzerland', 'Spirits', '2.54'],\n",
       "       ['1987', 'Western Pacific', 'Papua New Guinea', 'Other', '0'],\n",
       "       ['1986', 'Africa', 'Swaziland', 'Other', '5.15']], dtype='<U75')"
      ]
     },
     "execution_count": 3,
     "metadata": {},
     "output_type": "execute_result"
    }
   ],
   "source": [
    "import numpy as np\n",
    "\n",
    "world_alcohol = np.genfromtxt(\"world_alcohol.csv\", delimiter=\",\", dtype = \"U75\", skip_header = 1)\n",
    "world_alcohol"
   ]
  },
  {
   "cell_type": "markdown",
   "id": "95c9824a",
   "metadata": {},
   "source": [
    "## effectuer des comparaisons "
   ]
  },
  {
   "cell_type": "code",
   "execution_count": 19,
   "id": "068c0508",
   "metadata": {},
   "outputs": [],
   "source": [
    "vector = np.array([5,10,15,20,10])"
   ]
  },
  {
   "cell_type": "code",
   "execution_count": 20,
   "id": "c8fa1b03",
   "metadata": {},
   "outputs": [
    {
     "data": {
      "text/plain": [
       "array([False,  True, False, False,  True])"
      ]
     },
     "execution_count": 20,
     "metadata": {},
     "output_type": "execute_result"
    }
   ],
   "source": [
    "vector == 10"
   ]
  },
  {
   "cell_type": "code",
   "execution_count": 21,
   "id": "25c7ad0f",
   "metadata": {},
   "outputs": [
    {
     "data": {
      "text/plain": [
       "array([[ 5, 10, 15],\n",
       "       [20, 25, 30],\n",
       "       [35, 40, 45]])"
      ]
     },
     "execution_count": 21,
     "metadata": {},
     "output_type": "execute_result"
    }
   ],
   "source": [
    "matrix = np.array([[5,10,15], [20,25,30],[35,40,45]])\n",
    "matrix "
   ]
  },
  {
   "cell_type": "code",
   "execution_count": 22,
   "id": "2c0b6053",
   "metadata": {},
   "outputs": [
    {
     "data": {
      "text/plain": [
       "array([[False, False, False],\n",
       "       [False,  True, False],\n",
       "       [False, False, False]])"
      ]
     },
     "execution_count": 22,
     "metadata": {},
     "output_type": "execute_result"
    }
   ],
   "source": [
    "matrix == 25"
   ]
  },
  {
   "cell_type": "markdown",
   "id": "3a634d1e",
   "metadata": {},
   "source": [
    "## Selectionner des éléments precis depuis un tableau numpy"
   ]
  },
  {
   "cell_type": "code",
   "execution_count": 23,
   "id": "ac2b3e07",
   "metadata": {},
   "outputs": [
    {
     "data": {
      "text/plain": [
       "array([ 5, 10, 15, 20, 10])"
      ]
     },
     "execution_count": 23,
     "metadata": {},
     "output_type": "execute_result"
    }
   ],
   "source": [
    "vector"
   ]
  },
  {
   "cell_type": "code",
   "execution_count": 24,
   "id": "f3bf6b25",
   "metadata": {},
   "outputs": [
    {
     "name": "stdout",
     "output_type": "stream",
     "text": [
      "[10 10]\n"
     ]
    }
   ],
   "source": [
    "equal_to_10 = (vector == 10)\n",
    "print(vector[equal_to_10])"
   ]
  },
  {
   "cell_type": "code",
   "execution_count": 25,
   "id": "4ab51064",
   "metadata": {},
   "outputs": [
    {
     "data": {
      "text/plain": [
       "array([[ 5, 10, 15],\n",
       "       [20, 25, 30],\n",
       "       [35, 40, 45]])"
      ]
     },
     "execution_count": 25,
     "metadata": {},
     "output_type": "execute_result"
    }
   ],
   "source": [
    "matrix"
   ]
  },
  {
   "cell_type": "code",
   "execution_count": 31,
   "id": "24efeb62",
   "metadata": {},
   "outputs": [],
   "source": [
    "equal_to_25 = (matrix[:,1] == 25)"
   ]
  },
  {
   "cell_type": "code",
   "execution_count": 33,
   "id": "4845869e",
   "metadata": {},
   "outputs": [
    {
     "name": "stdout",
     "output_type": "stream",
     "text": [
      "[[20 25 30]]\n"
     ]
    }
   ],
   "source": [
    "print(matrix[equal_to_25, :])"
   ]
  },
  {
   "cell_type": "code",
   "execution_count": null,
   "id": "f5b321de",
   "metadata": {},
   "outputs": [],
   "source": []
  },
  {
   "cell_type": "code",
   "execution_count": null,
   "id": "a2e519b4",
   "metadata": {},
   "outputs": [],
   "source": []
  }
 ],
 "metadata": {
  "kernelspec": {
   "display_name": "Python 3 (ipykernel)",
   "language": "python",
   "name": "python3"
  },
  "language_info": {
   "codemirror_mode": {
    "name": "ipython",
    "version": 3
   },
   "file_extension": ".py",
   "mimetype": "text/x-python",
   "name": "python",
   "nbconvert_exporter": "python",
   "pygments_lexer": "ipython3",
   "version": "3.10.9"
  }
 },
 "nbformat": 4,
 "nbformat_minor": 5
}
