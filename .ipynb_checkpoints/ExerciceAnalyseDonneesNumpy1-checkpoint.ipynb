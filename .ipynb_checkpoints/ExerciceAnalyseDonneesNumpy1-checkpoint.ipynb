{
 "cells": [
  {
   "cell_type": "markdown",
   "id": "c1bc85a3",
   "metadata": {},
   "source": [
    "Exercice Analyse de données avec numpy "
   ]
  },
  {
   "cell_type": "code",
   "execution_count": 1,
   "id": "ce1dd7e5",
   "metadata": {},
   "outputs": [
    {
     "data": {
      "text/plain": [
       "array([['1986', 'Western Pacific', 'Viet Nam', 'Wine', '0'],\n",
       "       ['1986', 'Americas', 'Uruguay', 'Other', '0.5'],\n",
       "       ['1985', 'Africa', \"Cte d'Ivoire\", 'Wine', '1.62'],\n",
       "       ...,\n",
       "       ['1986', 'Europe', 'Switzerland', 'Spirits', '2.54'],\n",
       "       ['1987', 'Western Pacific', 'Papua New Guinea', 'Other', '0'],\n",
       "       ['1986', 'Africa', 'Swaziland', 'Other', '5.15']], dtype='<U75')"
      ]
     },
     "execution_count": 1,
     "metadata": {},
     "output_type": "execute_result"
    }
   ],
   "source": [
    "import numpy as np\n",
    "\n",
    "world_alcohol = np.genfromtxt(\"world_alcohol.csv\", delimiter=\",\", dtype = \"U75\", skip_header = 1)\n",
    "world_alcohol"
   ]
  },
  {
   "cell_type": "markdown",
   "id": "68c8edad",
   "metadata": {},
   "source": [
    "    ### extraction du 3 colonne du tableu numpy world_alcohol countries_alcohol et comparaison avec canada"
   ]
  },
  {
   "cell_type": "code",
   "execution_count": 13,
   "id": "150c200b",
   "metadata": {},
   "outputs": [
    {
     "data": {
      "text/plain": [
       "array([False, False, False, ..., False, False, False])"
      ]
     },
     "execution_count": 13,
     "metadata": {},
     "output_type": "execute_result"
    }
   ],
   "source": [
    "countries_canada = (world_alcohol[:,2] ==\"canada\")\n",
    "countries_canada"
   ]
  },
  {
   "cell_type": "code",
   "execution_count": 14,
   "id": "71f4329f",
   "metadata": {},
   "outputs": [
    {
     "data": {
      "text/plain": [
       "array([False, False, False, ..., False, False, False])"
      ]
     },
     "execution_count": 14,
     "metadata": {},
     "output_type": "execute_result"
    }
   ],
   "source": [
    "yeras_1984 = (world_alcohol[:,0] == \"1984\")\n",
    "yeras_1984"
   ]
  },
  {
   "cell_type": "markdown",
   "id": "73ac87d8",
   "metadata": {},
   "source": [
    "### selectionner des éléments\n",
    "\n",
    "##### ercercices"
   ]
  },
  {
   "cell_type": "markdown",
   "id": "fe299b7e",
   "metadata": {},
   "source": [
    "#### - comparer la 3e colonne de world_alcohol  à la chaine de carctère \"Algeria\"\n",
    "#### - Assigner le resultat à la variable country_is_algeria\n",
    "#### - Selectionner seeulement les lignes de world_alcohol pour lesquelles country_is_algeria vaut true"
   ]
  },
  {
   "cell_type": "code",
   "execution_count": 18,
   "id": "49c57176",
   "metadata": {},
   "outputs": [
    {
     "name": "stdout",
     "output_type": "stream",
     "text": [
      "[['1984' 'Africa' 'Algeria' 'Spirits' '0.01']\n",
      " ['1987' 'Africa' 'Algeria' 'Beer' '0.17']\n",
      " ['1987' 'Africa' 'Algeria' 'Spirits' '0.01']\n",
      " ['1986' 'Africa' 'Algeria' 'Wine' '0.1']\n",
      " ['1984' 'Africa' 'Algeria' 'Other' '0']\n",
      " ['1989' 'Africa' 'Algeria' 'Beer' '0.16']\n",
      " ['1989' 'Africa' 'Algeria' 'Spirits' '0.01']\n",
      " ['1989' 'Africa' 'Algeria' 'Wine' '0.23']\n",
      " ['1986' 'Africa' 'Algeria' 'Spirits' '0.01']\n",
      " ['1984' 'Africa' 'Algeria' 'Wine' '0.12']\n",
      " ['1985' 'Africa' 'Algeria' 'Beer' '0.19']\n",
      " ['1985' 'Africa' 'Algeria' 'Other' '0']\n",
      " ['1986' 'Africa' 'Algeria' 'Beer' '0.18']\n",
      " ['1985' 'Africa' 'Algeria' 'Wine' '0.11']\n",
      " ['1986' 'Africa' 'Algeria' 'Other' '0']\n",
      " ['1989' 'Africa' 'Algeria' 'Other' '0']\n",
      " ['1987' 'Africa' 'Algeria' 'Other' '0']\n",
      " ['1984' 'Africa' 'Algeria' 'Beer' '0.2']\n",
      " ['1985' 'Africa' 'Algeria' 'Spirits' '0.01']\n",
      " ['1987' 'Africa' 'Algeria' 'Wine' '0.1']]\n"
     ]
    }
   ],
   "source": [
    "country_is_algeria = (world_alcohol[:,2] == \"Algeria\")\n",
    "country_algeria = world_alcohol[country_is_algeria]\n",
    "print(country_algeria)"
   ]
  },
  {
   "cell_type": "code",
   "execution_count": 19,
   "id": "ca270c19",
   "metadata": {},
   "outputs": [
    {
     "name": "stdout",
     "output_type": "stream",
     "text": [
      "[['1984' 'Africa' 'Nigeria' 'Other' '6.1']\n",
      " ['1984' 'Eastern Mediterranean' 'Afghanistan' 'Other' '0']\n",
      " ['1984' 'Americas' 'Costa Rica' 'Wine' '0.06']\n",
      " ...\n",
      " ['1984' 'Europe' 'Latvia' 'Spirits' '7.5']\n",
      " ['1984' 'Africa' 'Angola' 'Wine' '0.57']\n",
      " ['1984' 'Africa' 'Central African Republic' 'Wine' '0.46']]\n"
     ]
    }
   ],
   "source": [
    "year_is_1984 = world_alcohol[:,0] == \"1984\"\n",
    "year_1984 = world_alcohol[year_is_1984]\n",
    "print(year_1984)"
   ]
  },
  {
   "cell_type": "code",
   "execution_count": null,
   "id": "88b7585c",
   "metadata": {},
   "outputs": [],
   "source": []
  },
  {
   "cell_type": "markdown",
   "id": "08805ea8",
   "metadata": {},
   "source": [
    "### Effectuer des comparaison avec plusieurs conditions\n",
    "* selectionner les lignes dont le pays est \"Algeria\" et l'année \"1986\""
   ]
  },
  {
   "cell_type": "code",
   "execution_count": 21,
   "id": "bd0a268d",
   "metadata": {},
   "outputs": [
    {
     "ename": "NameError",
     "evalue": "name 'country_is_Algeria_1986' is not defined",
     "output_type": "error",
     "traceback": [
      "\u001b[1;31m---------------------------------------------------------------------------\u001b[0m",
      "\u001b[1;31mNameError\u001b[0m                                 Traceback (most recent call last)",
      "Cell \u001b[1;32mIn[21], line 2\u001b[0m\n\u001b[0;32m      1\u001b[0m country_is_Algria_1986 \u001b[38;5;241m=\u001b[39m (world_alcohol[:,\u001b[38;5;241m2\u001b[39m] \u001b[38;5;241m==\u001b[39m \u001b[38;5;124m\"\u001b[39m\u001b[38;5;124mAlgeria\u001b[39m\u001b[38;5;124m\"\u001b[39m) \u001b[38;5;241m&\u001b[39m (world_alcohol[:,\u001b[38;5;241m0\u001b[39m] \u001b[38;5;241m==\u001b[39m \u001b[38;5;124m\"\u001b[39m\u001b[38;5;124m1986\u001b[39m\u001b[38;5;124m\"\u001b[39m)\n\u001b[1;32m----> 2\u001b[0m rows_with_algeria_and_1986 \u001b[38;5;241m=\u001b[39m world_alcohol[\u001b[43mcountry_is_Algeria_1986\u001b[49m,:]\n",
      "\u001b[1;31mNameError\u001b[0m: name 'country_is_Algeria_1986' is not defined"
     ]
    }
   ],
   "source": [
    "country_is_Algria_1986 = (world_alcohol[:,2] == \"Algeria\") & (world_alcohol[:,0] == \"1986\")\n",
    "rows_with_algeria_and_1986 = world_alcohol[country_is_Algria_1986,:]"
   ]
  },
  {
   "cell_type": "code",
   "execution_count": null,
   "id": "c1797aa5",
   "metadata": {},
   "outputs": [],
   "source": []
  }
 ],
 "metadata": {
  "kernelspec": {
   "display_name": "Python 3 (ipykernel)",
   "language": "python",
   "name": "python3"
  },
  "language_info": {
   "codemirror_mode": {
    "name": "ipython",
    "version": 3
   },
   "file_extension": ".py",
   "mimetype": "text/x-python",
   "name": "python",
   "nbconvert_exporter": "python",
   "pygments_lexer": "ipython3",
   "version": "3.10.9"
  }
 },
 "nbformat": 4,
 "nbformat_minor": 5
}
