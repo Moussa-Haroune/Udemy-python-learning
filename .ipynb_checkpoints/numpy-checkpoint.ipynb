{
 "cells": [
  {
   "cell_type": "markdown",
   "id": "5630d16b",
   "metadata": {},
   "source": [
    "# Découverte de Numpy\n",
    "\n",
    "## Introduction à Numpy"
   ]
  },
  {
   "cell_type": "code",
   "execution_count": 4,
   "id": "57c976df",
   "metadata": {},
   "outputs": [],
   "source": [
    "List_of_list = [[\"paris\", 75], [\"lyon\", 69]]"
   ]
  },
  {
   "cell_type": "markdown",
   "id": "23899768",
   "metadata": {},
   "source": [
    "### Avantages des listes python:\n",
    "* peuvent contenir différentes types de données \n",
    "* peuvent rétrécir et grandir dynamiquement"
   ]
  },
  {
   "cell_type": "code",
   "execution_count": 5,
   "id": "4f779d69",
   "metadata": {},
   "outputs": [],
   "source": [
    "list = [1, \"film\", 3]"
   ]
  },
  {
   "cell_type": "code",
   "execution_count": 6,
   "id": "78462596",
   "metadata": {},
   "outputs": [
    {
     "name": "stdout",
     "output_type": "stream",
     "text": [
      "[1, 'film', 3, 'serie']\n"
     ]
    }
   ],
   "source": [
    "list.append(\"serie\")\n",
    "print(list)"
   ]
  },
  {
   "cell_type": "code",
   "execution_count": null,
   "id": "896f66ec",
   "metadata": {},
   "outputs": [],
   "source": []
  },
  {
   "cell_type": "markdown",
   "id": "58907f90",
   "metadata": {},
   "source": [
    "### Inconvénients des listes Python:\n",
    "* consomment beaucoup d'énergies\n",
    "* problématiques pour des datasets de moyenne à très grande taille "
   ]
  },
  {
   "cell_type": "markdown",
   "id": "3c06d799",
   "metadata": {},
   "source": [
    "## les tabeaux avec Numpy"
   ]
  },
  {
   "cell_type": "markdown",
   "id": "34652083",
   "metadata": {},
   "source": [
    "ndarray"
   ]
  },
  {
   "cell_type": "code",
   "execution_count": 7,
   "id": "da33fdc2",
   "metadata": {},
   "outputs": [],
   "source": [
    "import numpy as np"
   ]
  },
  {
   "cell_type": "code",
   "execution_count": 8,
   "id": "723a0752",
   "metadata": {},
   "outputs": [],
   "source": [
    "vector = np.array([3, 4, 17, 65])"
   ]
  },
  {
   "cell_type": "code",
   "execution_count": 9,
   "id": "9a2d68f3",
   "metadata": {},
   "outputs": [
    {
     "name": "stdout",
     "output_type": "stream",
     "text": [
      "[ 3  4 17 65]\n"
     ]
    }
   ],
   "source": [
    "print(vector)"
   ]
  },
  {
   "cell_type": "code",
   "execution_count": 10,
   "id": "00782c59",
   "metadata": {},
   "outputs": [],
   "source": [
    "matrix = np.array([[2, 15, 12], [20, 60, 35], [39, 85, 14]])"
   ]
  },
  {
   "cell_type": "code",
   "execution_count": 11,
   "id": "16ce77ac",
   "metadata": {},
   "outputs": [
    {
     "name": "stdout",
     "output_type": "stream",
     "text": [
      "[[ 2 15 12]\n",
      " [20 60 35]\n",
      " [39 85 14]]\n"
     ]
    }
   ],
   "source": [
    "print(matrix)"
   ]
  },
  {
   "cell_type": "code",
   "execution_count": 12,
   "id": "974967bb",
   "metadata": {},
   "outputs": [],
   "source": [
    "import numpy as np\n",
    "vector = np.array([10, 20, 30])\n",
    "matrix = np.array([[5, 10, 15], [20, 25, 30], [35, 40, 45]])"
   ]
  },
  {
   "cell_type": "code",
   "execution_count": 13,
   "id": "44f1d3ca",
   "metadata": {},
   "outputs": [
    {
     "name": "stdout",
     "output_type": "stream",
     "text": [
      "[10 20 30]\n"
     ]
    }
   ],
   "source": [
    "print(vector)\n"
   ]
  },
  {
   "cell_type": "code",
   "execution_count": 14,
   "id": "9e071366",
   "metadata": {},
   "outputs": [
    {
     "name": "stdout",
     "output_type": "stream",
     "text": [
      "[[ 5 10 15]\n",
      " [20 25 30]\n",
      " [35 40 45]]\n"
     ]
    }
   ],
   "source": [
    "print(matrix)"
   ]
  },
  {
   "cell_type": "markdown",
   "id": "4f6daff4",
   "metadata": {},
   "source": [
    "# taille d'un tableau"
   ]
  },
  {
   "cell_type": "code",
   "execution_count": 15,
   "id": "bd25f351",
   "metadata": {},
   "outputs": [
    {
     "data": {
      "text/plain": [
       "array(['1958', 'wester pacific', 'viet Nam', 'Wine', '0'], dtype='<U14')"
      ]
     },
     "execution_count": 15,
     "metadata": {},
     "output_type": "execute_result"
    }
   ],
   "source": [
    "np.array(['1958', 'wester pacific', 'viet Nam', 'Wine', '0'])"
   ]
  },
  {
   "cell_type": "code",
   "execution_count": 16,
   "id": "e27602e0",
   "metadata": {},
   "outputs": [
    {
     "data": {
      "text/plain": [
       "array([['1958', 'wester pacific', 'viet Nam', 'Wine', '0'],\n",
       "       ['1900', 'wester pacific', 'viet Nam', 'Wine', '0'],\n",
       "       ['1977', 'wester pacific', 'viet Nam', 'Wine', '0']], dtype='<U14')"
      ]
     },
     "execution_count": 16,
     "metadata": {},
     "output_type": "execute_result"
    }
   ],
   "source": [
    "np.array([['1958', 'wester pacific', 'viet Nam', 'Wine', '0'], ['1900', 'wester pacific', 'viet Nam', 'Wine', '0'], ['1977', 'wester pacific', 'viet Nam', 'Wine', '0']])"
   ]
  },
  {
   "cell_type": "markdown",
   "id": "bbc6cc00",
   "metadata": {},
   "source": [
    "ndarray.shape"
   ]
  },
  {
   "cell_type": "code",
   "execution_count": 17,
   "id": "c187f80a",
   "metadata": {},
   "outputs": [
    {
     "name": "stdout",
     "output_type": "stream",
     "text": [
      "(4,)\n"
     ]
    }
   ],
   "source": [
    "vector = np.array([1, 2 ,3, 4])\n",
    "print(vector.shape)"
   ]
  },
  {
   "cell_type": "code",
   "execution_count": 18,
   "id": "fcf7812f",
   "metadata": {},
   "outputs": [
    {
     "name": "stdout",
     "output_type": "stream",
     "text": [
      "(2, 3)\n"
     ]
    }
   ],
   "source": [
    "matrix = np.array([[5, 10, 15],[20, 25, 23]])\n",
    "print(matrix.shape)"
   ]
  },
  {
   "cell_type": "code",
   "execution_count": 19,
   "id": "051aa5fb",
   "metadata": {},
   "outputs": [],
   "source": [
    "vector = np.array([10, 20, 30])\n",
    "matrix = np.array([[5, 10, 15], [20, 25, 30], [35, 40, 45]])"
   ]
  },
  {
   "cell_type": "code",
   "execution_count": 20,
   "id": "89260e57",
   "metadata": {},
   "outputs": [
    {
     "name": "stdout",
     "output_type": "stream",
     "text": [
      "(3,)\n",
      "(3, 3)\n"
     ]
    }
   ],
   "source": [
    "print(vector.shape)\n",
    "print(matrix.shape)"
   ]
  },
  {
   "cell_type": "markdown",
   "id": "6884b702",
   "metadata": {},
   "source": [
    "## Lire un dataset avec Numpy"
   ]
  },
  {
   "cell_type": "code",
   "execution_count": 21,
   "id": "9dc558d3",
   "metadata": {},
   "outputs": [],
   "source": [
    "# fonction numpy pour lire un dataset : numpy.genfromtxt()"
   ]
  },
  {
   "cell_type": "code",
   "execution_count": 22,
   "id": "b1268604",
   "metadata": {},
   "outputs": [
    {
     "name": "stdout",
     "output_type": "stream",
     "text": [
      "<class 'numpy.ndarray'>\n"
     ]
    }
   ],
   "source": [
    "import numpy as np\n",
    "world_alcohol = np.genfromtxt(\"world_alcohol.csv\", delimiter = \",\")\n",
    "print(type(world_alcohol))"
   ]
  },
  {
   "cell_type": "markdown",
   "id": "c40576b4",
   "metadata": {},
   "source": [
    "# Les types de données avec Numpy"
   ]
  },
  {
   "cell_type": "code",
   "execution_count": 23,
   "id": "3597e50a",
   "metadata": {},
   "outputs": [],
   "source": [
    "# bool  -->  true ou false"
   ]
  },
  {
   "cell_type": "code",
   "execution_count": 24,
   "id": "e18a3443",
   "metadata": {},
   "outputs": [],
   "source": [
    "# int --> integer "
   ]
  },
  {
   "cell_type": "code",
   "execution_count": 25,
   "id": "cff31238",
   "metadata": {},
   "outputs": [],
   "source": [
    "# float "
   ]
  },
  {
   "cell_type": "code",
   "execution_count": 26,
   "id": "f1176de3",
   "metadata": {},
   "outputs": [],
   "source": [
    "# string "
   ]
  },
  {
   "cell_type": "code",
   "execution_count": 27,
   "id": "963aa8cd",
   "metadata": {},
   "outputs": [],
   "source": [
    "numbers = np.array([1, 2, 3, 4])"
   ]
  },
  {
   "cell_type": "code",
   "execution_count": 28,
   "id": "137c8790",
   "metadata": {},
   "outputs": [
    {
     "data": {
      "text/plain": [
       "dtype('int32')"
      ]
     },
     "execution_count": 28,
     "metadata": {},
     "output_type": "execute_result"
    }
   ],
   "source": [
    "numbers.dtype"
   ]
  },
  {
   "cell_type": "code",
   "execution_count": 29,
   "id": "fda3b7a8",
   "metadata": {},
   "outputs": [
    {
     "name": "stdout",
     "output_type": "stream",
     "text": [
      "float64\n"
     ]
    }
   ],
   "source": [
    "world_alcohol_dtype = world_alcohol.dtype\n",
    "print(world_alcohol_dtype)"
   ]
  },
  {
   "cell_type": "markdown",
   "id": "b048a165",
   "metadata": {},
   "source": [
    "# Afficher les données correctement "
   ]
  },
  {
   "cell_type": "code",
   "execution_count": 30,
   "id": "a5c57e6d",
   "metadata": {},
   "outputs": [
    {
     "data": {
      "text/plain": [
       "array([['1986', 'Western Pacific', 'Viet Nam', 'Wine', '0'],\n",
       "       ['1986', 'Americas', 'Uruguay', 'Other', '0.5'],\n",
       "       ['1985', 'Africa', \"Cte d'Ivoire\", 'Wine', '1.62'],\n",
       "       ...,\n",
       "       ['1986', 'Europe', 'Switzerland', 'Spirits', '2.54'],\n",
       "       ['1987', 'Western Pacific', 'Papua New Guinea', 'Other', '0'],\n",
       "       ['1986', 'Africa', 'Swaziland', 'Other', '5.15']], dtype='<U75')"
      ]
     },
     "execution_count": 30,
     "metadata": {},
     "output_type": "execute_result"
    }
   ],
   "source": [
    "world_alcohol = np.genfromtxt(\"world_alcohol.csv\", delimiter=\",\", dtype = \"U75\", skip_header = 1)\n",
    "world_alcohol"
   ]
  },
  {
   "cell_type": "markdown",
   "id": "aec95e9f",
   "metadata": {},
   "source": [
    "# Extraire une valeur depuis un tableau Numpy"
   ]
  },
  {
   "cell_type": "code",
   "execution_count": 31,
   "id": "cd5121f5",
   "metadata": {},
   "outputs": [],
   "source": [
    "countries = world_alcohol[:,2]"
   ]
  },
  {
   "cell_type": "code",
   "execution_count": 32,
   "id": "837e5551",
   "metadata": {},
   "outputs": [
    {
     "name": "stdout",
     "output_type": "stream",
     "text": [
      "['Viet Nam' 'Uruguay' \"Cte d'Ivoire\" ... 'Switzerland' 'Papua New Guinea'\n",
      " 'Swaziland']\n"
     ]
    }
   ],
   "source": [
    "print(countries)"
   ]
  },
  {
   "cell_type": "code",
   "execution_count": 34,
   "id": "487a568e",
   "metadata": {},
   "outputs": [],
   "source": [
    "alcohol_drinks = world_alcohol[:,4]"
   ]
  },
  {
   "cell_type": "code",
   "execution_count": 35,
   "id": "7e37fd82",
   "metadata": {},
   "outputs": [
    {
     "name": "stdout",
     "output_type": "stream",
     "text": [
      "['0' '0.5' '1.62' ... '2.54' '0' '5.15']\n"
     ]
    }
   ],
   "source": [
    "print(alcohol_drinks)"
   ]
  },
  {
   "cell_type": "markdown",
   "id": "95155c90",
   "metadata": {},
   "source": [
    "# Extraire une valeur depuis un tableau numpy"
   ]
  },
  {
   "cell_type": "code",
   "execution_count": 38,
   "id": "453a119f",
   "metadata": {},
   "outputs": [],
   "source": [
    "matrix = np.array([[5,10,15],[20,25,30],[35,40,45]])"
   ]
  },
  {
   "cell_type": "code",
   "execution_count": 39,
   "id": "69717708",
   "metadata": {},
   "outputs": [
    {
     "data": {
      "text/plain": [
       "array([[ 5, 10, 15],\n",
       "       [20, 25, 30],\n",
       "       [35, 40, 45]])"
      ]
     },
     "execution_count": 39,
     "metadata": {},
     "output_type": "execute_result"
    }
   ],
   "source": [
    "matrix"
   ]
  },
  {
   "cell_type": "code",
   "execution_count": null,
   "id": "95fa1f04",
   "metadata": {},
   "outputs": [],
   "source": [
    "matrix[:,0,2]"
   ]
  }
 ],
 "metadata": {
  "kernelspec": {
   "display_name": "Python 3 (ipykernel)",
   "language": "python",
   "name": "python3"
  },
  "language_info": {
   "codemirror_mode": {
    "name": "ipython",
    "version": 3
   },
   "file_extension": ".py",
   "mimetype": "text/x-python",
   "name": "python",
   "nbconvert_exporter": "python",
   "pygments_lexer": "ipython3",
   "version": "3.10.9"
  }
 },
 "nbformat": 4,
 "nbformat_minor": 5
}
